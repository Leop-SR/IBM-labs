{
  "cells": [
    {
      "cell_type": "markdown",
      "metadata": {
        "id": "PhCi206hUjlx"
      },
      "source": [
        "# Data Science Tools and Ecosystem"
      ]
    },
    {
      "cell_type": "markdown",
      "metadata": {
        "id": "3mOntKX_Ujl0"
      },
      "source": [
        "In this notebook, Data Science Tools and Ecosystem are summarized."
      ]
    },
    {
      "cell_type": "markdown",
      "metadata": {
        "id": "64789-34Ujl0"
      },
      "source": [
        "**Objectives**\n",
        "* List popular languages for Data Science\n",
        "* List commonly used libraries for Data Science\n",
        "* Table of Data Science Tools"
      ]
    },
    {
      "cell_type": "markdown",
      "metadata": {
        "id": "P16DpQzXUjl1"
      },
      "source": [
        "Some of the popular languages that Data Scientists use are:\n",
        "1. Python\n",
        "2. R\n",
        "3. SQL\n",
        "4. Java\n",
        "5. Julia\n",
        "6. C++"
      ]
    },
    {
      "cell_type": "markdown",
      "metadata": {
        "id": "TSvz-gQxUjl1"
      },
      "source": [
        "Some of the commonly used libraries used by Data Scientists include:\n",
        "1. Pandas\n",
        "2. Numpy\n",
        "3. Matplotlib"
      ]
    },
    {
      "cell_type": "markdown",
      "metadata": {
        "id": "nzAva8-MUjl2"
      },
      "source": [
        "|Data Science Tools|\n",
        "|------------------|\n",
        "|Apache Spark|\n",
        "|SQL|\n",
        "|Power BI|\n",
        "|TensorFlow Serving"
      ]
    },
    {
      "cell_type": "markdown",
      "metadata": {
        "id": "Hj9sLcK1Ujl2"
      },
      "source": [
        "### Below are a few examples of evaluating arithmetic expressions in Python"
      ]
    },
    {
      "cell_type": "code",
      "execution_count": null,
      "metadata": {
        "id": "MKfaOBbhUjl2",
        "outputId": "3b014256-2063-4e5a-bbd2-6b64b3105022"
      },
      "outputs": [
        {
          "data": {
            "text/plain": [
              "17"
            ]
          },
          "execution_count": 2,
          "metadata": {},
          "output_type": "execute_result"
        }
      ],
      "source": [
        "(3*4)+5\n",
        "#This a simple arithmetic expression to mutiply then add integers"
      ]
    },
    {
      "cell_type": "code",
      "execution_count": null,
      "metadata": {
        "id": "IP5NogN8Ujl3",
        "outputId": "08382bcc-ee2e-42cc-dda6-26be823de7d3"
      },
      "outputs": [
        {
          "name": "stdout",
          "output_type": "stream",
          "text": [
            "3.3333333333333335\n"
          ]
        }
      ],
      "source": [
        "#This will convert 200 minutes to hours by diving by 60\n",
        "def hourtomin(hour):\n",
        "    min = hour/60\n",
        "    return min\n",
        "print(hourtomin(200))\n",
        "\n",
        "\n"
      ]
    },
    {
      "cell_type": "markdown",
      "metadata": {
        "id": "RR7yOhcPUjl4"
      },
      "source": [
        "## Author\n",
        "Leop SR"
      ]
    }
  ],
  "metadata": {
    "kernelspec": {
      "display_name": "Python 3",
      "language": "python",
      "name": "python3"
    },
    "language_info": {
      "codemirror_mode": {
        "name": "ipython",
        "version": 3
      },
      "file_extension": ".py",
      "mimetype": "text/x-python",
      "name": "python",
      "nbconvert_exporter": "python",
      "pygments_lexer": "ipython3",
      "version": "3.13.2"
    },
    "colab": {
      "provenance": []
    }
  },
  "nbformat": 4,
  "nbformat_minor": 0
}